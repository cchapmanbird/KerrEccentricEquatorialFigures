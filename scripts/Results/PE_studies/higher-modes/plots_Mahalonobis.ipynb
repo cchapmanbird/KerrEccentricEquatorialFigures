{
 "cells": [
  {
   "cell_type": "code",
   "execution_count": 2,
   "id": "5a75c81c-1b94-46b9-ab8c-2b7d673a5b95",
   "metadata": {},
   "outputs": [
    {
     "name": "stdout",
     "output_type": "stream",
     "text": [
      "startup\n"
     ]
    }
   ],
   "source": [
    "import numpy as np\n",
    "import cupy as cp\n",
    "import matplotlib.pyplot as plt\n",
    "from itertools import product\n",
    "import os\n",
    "import h5py\n",
    "from tqdm import tqdm\n",
    "\n",
    "#few utils\n",
    "from few.utils.utility import get_p_at_t, get_mismatch, get_overlap\n",
    "#few trajectory\n",
    "from few.trajectory.inspiral import EMRIInspiral\n",
    "from few.trajectory.ode import KerrEccEqFlux\n",
    "#few waveform\n",
    "from few.waveform import FastKerrEccentricEquatorialFlux, GenerateEMRIWaveform\n",
    "from few.utils.constants import YRSID_SI\n",
    "\n",
    "from few.amplitude.romannet import RomanAmplitude\n",
    "from few.utils.modeselector import ModeSelector\n",
    "from few.utils.ylm import GetYlms\n",
    "\n",
    "#sef imports\n",
    "from stableemrifisher.fisher import StableEMRIFisher\n",
    "from stableemrifisher.utils import generate_PSD, padding, inner_product\n",
    "from stableemrifisher.fisher.derivatives import derivative\n",
    "\n",
    "#LISAanalysistools imports\n",
    "from fastlisaresponse import ResponseWrapper  # Response function \n",
    "from lisatools.detector import ESAOrbits #ESAOrbits correspond to esa-trailing-orbits.h5\n",
    "\n",
    "from lisatools.sensitivity import get_sensitivity, A1TDISens, E1TDISens, T1TDISens\n",
    "\n",
    "import few\n",
    "\n",
    "use_gpu = False\n",
    "\n",
    "if not use_gpu:\n",
    "    \n",
    "    #tune few configuration\n",
    "    cfg_set = few.get_config_setter(reset=True)\n",
    "    \n",
    "    # Uncomment if you want to force CPU or GPU usage\n",
    "    # Leave commented to let FEW automatically select the best available hardware\n",
    "    #   - To force CPU usage:\n",
    "    cfg_set.enable_backends(\"cpu\")\n",
    "    #   - To force GPU usage with CUDA 12.x\n",
    "    #cfg_set.enable_backends(\"cuda12x\", \"cpu\")\n",
    "    #   - To force GPU usage with CUDA 11.x\n",
    "    # cfg_set.enable_backends(\"cuda11x\", \"cpu\")\n",
    "    #\n",
    "    cfg_set.set_log_level(\"info\");\n",
    "else:\n",
    "    pass #let the backend decide for itself.b"
   ]
  },
  {
   "cell_type": "code",
   "execution_count": 3,
   "id": "8a67b23f-ef53-4976-9586-b035667a34d6",
   "metadata": {},
   "outputs": [
    {
     "data": {
      "application/vnd.jupyter.widget-view+json": {
       "model_id": "319b3a97c160437c9f76c85ed8e1239b",
       "version_major": 2,
       "version_minor": 0
      },
      "text/plain": [
       "Output()"
      ]
     },
     "metadata": {},
     "output_type": "display_data"
    },
    {
     "data": {
      "text/html": [
       "<pre style=\"white-space:pre;overflow-x:auto;line-height:normal;font-family:Menlo,'DejaVu Sans Mono',consolas,'Courier New',monospace\"></pre>\n"
      ],
      "text/plain": []
     },
     "metadata": {},
     "output_type": "display_data"
    }
   ],
   "source": [
    "#fixed parameters\n",
    "T_LISA = 1.0 #observation time, years\n",
    "dt = 10.0 #sampling interval, seconds\n",
    "\n",
    "M_mu_range = [(1.5e6, 15.0), (1e6,10.0), (0.5e6,5.0)] #MBH mass in solar masses\n",
    "x0 = 1.0 #inclination, must be = 1.0 for equatorial model\n",
    "\n",
    "# initial phases\n",
    "Phi_phi0 = 0.0 #azimuthal phase\n",
    "Phi_theta0 = 0.0 #polar phase\n",
    "Phi_r0 = 0.0 #radial phase\n",
    "\n",
    "# define the extrinsic parameters\n",
    "qK = np.pi / 3  # polar spin angle\n",
    "phiK = np.pi / 4  # azimuthal viewing angle\n",
    "qS = np.pi / 5  # polar sky angle\n",
    "phiS = np.pi / 6  # azimuthal viewing angle\n",
    "dist = 1.0  # distance in Gpc. We'll adjust this later to fix the SNR as 100.0\n",
    "\n",
    "kerr_traj = EMRIInspiral(func=KerrEccEqFlux)"
   ]
  },
  {
   "cell_type": "code",
   "execution_count": 6,
   "id": "fd689b83-4022-45d4-8277-b9fc309c0880",
   "metadata": {},
   "outputs": [
    {
     "data": {
      "image/png": "[encoded data removed]",
      "text/plain": [
       "<Figure size 700x500 with 1 Axes>"
      ]
     },
     "metadata": {},
     "output_type": "display_data"
    }
   ],
   "source": [
    "plt.figure(figsize=(7,5))\n",
    "\n",
    "alphas = [1.0, 0.8, 0.6]\n",
    "\n",
    "for j in range(len(M_mu_range)):\n",
    "    M = M_mu_range[j][0]\n",
    "    mu = M_mu_range[j][1]\n",
    "    \n",
    "    filename = f'Maha_ae_grid_Mtot_{M+mu}'\n",
    "    if not os.path.exists(filename):\n",
    "        os.mkdir(filename)\n",
    "        \n",
    "    filename_Fishers = 'Fishers'\n",
    "    filename_Fishers = os.path.join(filename,filename_Fishers)\n",
    "    \n",
    "    calculate_Fishers = False #calculate Fishers using the full model\n",
    "    calculate_derivatives = False #calculate derivatives using approximate models (for CV-bias calculation)\n",
    "\n",
    "    with h5py.File(f\"{filename}/data.h5\", \"r\") as f:\n",
    "        param_grid = f[\"gridpoints\"][:]  # Read the dataset into a NumPy array\n",
    "        p_range = f[\"p0\"][:] + 0.5 #buffer\n",
    "        dist_range = f[\"dists\"][:]  # Read the dataset into a NumPy array\n",
    "\n",
    "    alternate_model = \"l2FastKerr\"\n",
    "    \n",
    "    filename_bias = os.path.join(filename,alternate_model)\n",
    "\n",
    "    sigma_contours = []\n",
    "    for i in range(len(param_grid)):\n",
    "        \n",
    "        with h5py.File(f\"{filename_bias}/biased_params_{i}.h5\",\"r\") as f:\n",
    "            sigma_contours.append(np.array(f[\"sigma_contours\"]))\n",
    "\n",
    "    sigma_contours = np.array(sigma_contours)\n",
    "\n",
    "    mask = np.log10(sigma_contours) < 0.2\n",
    "    \n",
    "    sigma_contours = sigma_contours[mask]\n",
    "    \n",
    "    sigma_contours = np.log10(np.array(sigma_contours))\n",
    "    \n",
    "    plt.hist(sigma_contours,bins=20, alpha=alphas[j], label=rf\"M: {M/1e6} $\\times 10^6 M_\\odot$, $\\mu$: {mu} $M_\\odot$\")\n",
    "\n",
    "plt.axvline(np.log10(1),linestyle='--',color='k',label=r'$1\\sigma$')\n",
    "plt.legend(fontsize=12)\n",
    "plt.xlabel(r\"$\\log_{10}(\\sigma)$\",fontsize=16)\n",
    "plt.savefig(\"source_comparison_Mahalonobis.pdf\",bbox_inches='tight',dpi=300)\n",
    "plt.show()"
   ]
  }
 ],
 "metadata": {
  "kernelspec": {
   "display_name": "Python 3 (ipykernel)",
   "language": "python",
   "name": "python3"
  },
  "language_info": {
   "codemirror_mode": {
    "name": "ipython",
    "version": 3
   },
   "file_extension": ".py",
   "mimetype": "text/x-python",
   "name": "python",
   "nbconvert_exporter": "python",
   "pygments_lexer": "ipython3",
   "version": "3.12.9"
  }
 },
 "nbformat": 4,
 "nbformat_minor": 5
}
